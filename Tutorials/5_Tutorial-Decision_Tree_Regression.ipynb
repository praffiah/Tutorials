{
 "cells": [
  {
   "cell_type": "markdown",
   "metadata": {},
   "source": [
    "# Tutorial 4:"
   ]
  },
  {
   "cell_type": "markdown",
   "metadata": {},
   "source": [
    "## Decision Tree Regression\n",
    "\n",
    "Decision Tree Regression is a machine learning model that uses a decision tree for predictive analysis. Decision Tree builds regression models in the form of a tree structure. Decision trees are one of the simplest and most common ways of modelling outcomes based on decisions.\n",
    "\n",
    "In machine learning, Decision Trees start by identifying the best feature for splitting the dataset which then finds the subsets that has the best possible value for the best feature. The dataset is split based on decisions until a level of optimization is reached.\n",
    "\n",
    "![Decision Tree](images/Decision_Tree.png \"Decision Tree\")\n",
    "\n",
    "  \n",
    "#### For a deeper understanding of Decision Tree Regression, use the following resources:\n",
    "- [Decision Tree Learning](http://www.cs.princeton.edu/courses/archive/spr07/cos424/papers/mitchell-dectrees.pdf)\n",
    "- [Machine Learning: Decision Trees](http://pages.cs.wisc.edu/~jerryzhu/cs540/handouts/dt.pdf)\n",
    "\n"
   ]
  },
  {
   "cell_type": "markdown",
   "metadata": {},
   "source": [
    "## In this practice session, we will learn to code Decision Tree Regression. \n",
    "### We will perform the following steps to build a simple classifier using the popular Beer dataset.\n",
    "\n",
    " \n",
    " \n",
    "  - **Data Preprocessing**\n",
    "\n",
    "    - Importing the libraries.\n",
    "    - Importing dataset.\n",
    "    - Dealing with the categorical variable.\n",
    "    - Classifying dependent and independent variables.\n",
    "    - Splitting the data into a training set and test set.\n",
    "    - Feature scaling.\n",
    " \n",
    "\n",
    "  -  **Decision Tree Regression**\n",
    "\n",
    "    - Create a Decision Tree Regression.\n",
    "    - Feed the training data to the regression.\n",
    "    - Predicting the score for the test set.\n",
    "    - Using the rmse to calculate the performance."
   ]
  },
  {
   "cell_type": "code",
   "execution_count": 38,
   "metadata": {},
   "outputs": [],
   "source": [
    "#1 Importing essential libraries\n",
    "import ipywidgets as widgets\n",
    "from IPython.display import display\n",
    "style = {'description_width': 'initial'}\n",
    "import pandas as pd\n",
    "import numpy as np\n",
    "%matplotlib inline\n",
    "import matplotlib.pyplot as plt"
   ]
  },
  {
   "cell_type": "code",
   "execution_count": 39,
   "metadata": {},
   "outputs": [],
   "source": [
    "#2 Importing the dataset\n",
    "\n",
    "file_name = 'DataSets/beer_data.csv'\n",
    "dataset = pd.read_csv(file_name)"
   ]
  },
  {
   "cell_type": "code",
   "execution_count": 40,
   "metadata": {},
   "outputs": [
    {
     "data": {
      "text/html": [
       "<div>\n",
       "<style scoped>\n",
       "    .dataframe tbody tr th:only-of-type {\n",
       "        vertical-align: middle;\n",
       "    }\n",
       "\n",
       "    .dataframe tbody tr th {\n",
       "        vertical-align: top;\n",
       "    }\n",
       "\n",
       "    .dataframe thead th {\n",
       "        text-align: right;\n",
       "    }\n",
       "</style>\n",
       "<table border=\"1\" class=\"dataframe\">\n",
       "  <thead>\n",
       "    <tr style=\"text-align: right;\">\n",
       "      <th></th>\n",
       "      <th>beer_beerid</th>\n",
       "      <th>review_profilename</th>\n",
       "      <th>review_overall</th>\n",
       "    </tr>\n",
       "  </thead>\n",
       "  <tbody>\n",
       "    <tr>\n",
       "      <th>0</th>\n",
       "      <td>48215</td>\n",
       "      <td>stcules</td>\n",
       "      <td>3.0</td>\n",
       "    </tr>\n",
       "    <tr>\n",
       "      <th>1</th>\n",
       "      <td>52159</td>\n",
       "      <td>oline73</td>\n",
       "      <td>3.0</td>\n",
       "    </tr>\n",
       "    <tr>\n",
       "      <th>2</th>\n",
       "      <td>52159</td>\n",
       "      <td>alpinebryant</td>\n",
       "      <td>3.0</td>\n",
       "    </tr>\n",
       "    <tr>\n",
       "      <th>3</th>\n",
       "      <td>52159</td>\n",
       "      <td>rawthar</td>\n",
       "      <td>4.0</td>\n",
       "    </tr>\n",
       "    <tr>\n",
       "      <th>4</th>\n",
       "      <td>52159</td>\n",
       "      <td>RangerClegg</td>\n",
       "      <td>3.5</td>\n",
       "    </tr>\n",
       "    <tr>\n",
       "      <th>5</th>\n",
       "      <td>58046</td>\n",
       "      <td>mikedrinksbeer2</td>\n",
       "      <td>4.5</td>\n",
       "    </tr>\n",
       "    <tr>\n",
       "      <th>6</th>\n",
       "      <td>58046</td>\n",
       "      <td>dbmernin83</td>\n",
       "      <td>4.0</td>\n",
       "    </tr>\n",
       "    <tr>\n",
       "      <th>7</th>\n",
       "      <td>58046</td>\n",
       "      <td>Blakaeris</td>\n",
       "      <td>4.5</td>\n",
       "    </tr>\n",
       "  </tbody>\n",
       "</table>\n",
       "</div>"
      ],
      "text/plain": [
       "   beer_beerid review_profilename  review_overall\n",
       "0        48215            stcules             3.0\n",
       "1        52159            oline73             3.0\n",
       "2        52159       alpinebryant             3.0\n",
       "3        52159            rawthar             4.0\n",
       "4        52159        RangerClegg             3.5\n",
       "5        58046    mikedrinksbeer2             4.5\n",
       "6        58046         dbmernin83             4.0\n",
       "7        58046          Blakaeris             4.5"
      ]
     },
     "execution_count": 40,
     "metadata": {},
     "output_type": "execute_result"
    }
   ],
   "source": [
    "#Displaying the dataset\n",
    "dataset.head(8)"
   ]
  },
  {
   "cell_type": "code",
   "execution_count": 41,
   "metadata": {},
   "outputs": [
    {
     "data": {
      "text/html": [
       "<div>\n",
       "<style scoped>\n",
       "    .dataframe tbody tr th:only-of-type {\n",
       "        vertical-align: middle;\n",
       "    }\n",
       "\n",
       "    .dataframe tbody tr th {\n",
       "        vertical-align: top;\n",
       "    }\n",
       "\n",
       "    .dataframe thead th {\n",
       "        text-align: right;\n",
       "    }\n",
       "</style>\n",
       "<table border=\"1\" class=\"dataframe\">\n",
       "  <thead>\n",
       "    <tr style=\"text-align: right;\">\n",
       "      <th></th>\n",
       "      <th>beer_beerid</th>\n",
       "      <th>review_profilename</th>\n",
       "      <th>review_overall</th>\n",
       "    </tr>\n",
       "  </thead>\n",
       "  <tbody>\n",
       "    <tr>\n",
       "      <th>0</th>\n",
       "      <td>48215</td>\n",
       "      <td>20635</td>\n",
       "      <td>3.0</td>\n",
       "    </tr>\n",
       "    <tr>\n",
       "      <th>1</th>\n",
       "      <td>52159</td>\n",
       "      <td>18354</td>\n",
       "      <td>3.0</td>\n",
       "    </tr>\n",
       "    <tr>\n",
       "      <th>2</th>\n",
       "      <td>52159</td>\n",
       "      <td>9525</td>\n",
       "      <td>3.0</td>\n",
       "    </tr>\n",
       "    <tr>\n",
       "      <th>3</th>\n",
       "      <td>52159</td>\n",
       "      <td>19171</td>\n",
       "      <td>4.0</td>\n",
       "    </tr>\n",
       "    <tr>\n",
       "      <th>4</th>\n",
       "      <td>52159</td>\n",
       "      <td>6912</td>\n",
       "      <td>3.5</td>\n",
       "    </tr>\n",
       "  </tbody>\n",
       "</table>\n",
       "</div>"
      ],
      "text/plain": [
       "   beer_beerid  review_profilename  review_overall\n",
       "0        48215               20635             3.0\n",
       "1        52159               18354             3.0\n",
       "2        52159                9525             3.0\n",
       "3        52159               19171             4.0\n",
       "4        52159                6912             3.5"
      ]
     },
     "execution_count": 41,
     "metadata": {},
     "output_type": "execute_result"
    }
   ],
   "source": [
    "# Dealing with Categorical variables\n",
    "from sklearn.preprocessing import LabelEncoder\n",
    "le = LabelEncoder()\n",
    "#Making sure the type of the review_profilename column is str\n",
    "dataset[\"review_profilename\"] = dataset[\"review_profilename\"].astype(str)\n",
    "dataset[\"review_profilename\"] = le.fit_transform(dataset[\"review_profilename\"])\n",
    "dataset.head()"
   ]
  },
  {
   "cell_type": "code",
   "execution_count": 42,
   "metadata": {},
   "outputs": [
    {
     "name": "stdout",
     "output_type": "stream",
     "text": [
      "Dataset has 475984 rows and 3 columns.\n"
     ]
    }
   ],
   "source": [
    "print(f\"Dataset has {dataset.shape[0]} rows and {dataset.shape[1]} columns.\")"
   ]
  },
  {
   "cell_type": "code",
   "execution_count": 43,
   "metadata": {},
   "outputs": [
    {
     "data": {
      "text/plain": [
       "['beer_beerid', 'review_profilename', 'review_overall']"
      ]
     },
     "execution_count": 43,
     "metadata": {},
     "output_type": "execute_result"
    }
   ],
   "source": [
    "dataset.columns.tolist()"
   ]
  },
  {
   "cell_type": "code",
   "execution_count": 44,
   "metadata": {},
   "outputs": [],
   "source": [
    "#3 classify dependent and independent variables\n",
    "X = dataset[[col for col in dataset.columns if col not in ('review_overall')]].values  #independent variables \n",
    "y = dataset['review_overall'].values  #dependent variable "
   ]
  },
  {
   "cell_type": "code",
   "execution_count": 45,
   "metadata": {},
   "outputs": [
    {
     "name": "stdout",
     "output_type": "stream",
     "text": [
      "\n",
      "Idependent Variables :\n",
      "\n",
      " [[48215 20635]\n",
      " [52159 18354]\n",
      " [52159  9525]\n",
      " [52159 19171]\n",
      " [52159  6912]]\n",
      "\n",
      "Dependent Variable (Score):\n",
      "\n",
      " [3.  3.  3.  4.  3.5]\n"
     ]
    }
   ],
   "source": [
    "print(\"\\nIdependent Variables :\\n\\n\", X[:5])\n",
    "print(\"\\nDependent Variable (Score):\\n\\n\", y[:5])"
   ]
  },
  {
   "cell_type": "markdown",
   "metadata": {},
   "source": [
    "## Create Train and Test Sets"
   ]
  },
  {
   "cell_type": "code",
   "execution_count": 46,
   "metadata": {},
   "outputs": [
    {
     "data": {
      "application/vnd.jupyter.widget-view+json": {
       "model_id": "508133e221a0413aac138ccf8921a5d4",
       "version_major": 2,
       "version_minor": 0
      },
      "text/plain": [
       "FloatSlider(value=0.2, description='Test Size :', max=0.6, min=0.01)"
      ]
     },
     "metadata": {},
     "output_type": "display_data"
    }
   ],
   "source": [
    "#4 Creating training set and testing set\n",
    "from sklearn.model_selection import train_test_split\n",
    "test_size = widgets.FloatSlider(min=0.01, max=0.6, value=0.2, description=\"Test Size :\", tooltips=['Usually 20-30%'])\n",
    "display(test_size)"
   ]
  },
  {
   "cell_type": "code",
   "execution_count": 47,
   "metadata": {},
   "outputs": [],
   "source": [
    "#Divide the dataset into Train and Test sets\n",
    "X_train, X_test, y_train, y_test = train_test_split(X ,y, test_size=test_size.value, random_state = 0) "
   ]
  },
  {
   "cell_type": "code",
   "execution_count": 48,
   "metadata": {},
   "outputs": [
    {
     "name": "stdout",
     "output_type": "stream",
     "text": [
      "Training Set :\n",
      "----------------\n",
      "\n",
      "X = \n",
      " [[ 2512  8970]\n",
      " [60420 13289]\n",
      " [ 1443 19400]\n",
      " [  836  5998]\n",
      " [12104 15292]]\n",
      "y = \n",
      " [4.5 3.5 4.5 4.  4. ]\n",
      "\n",
      "\n",
      "Test Set :\n",
      "----------------\n",
      "\n",
      "X = \n",
      " [[ 9873  7180]\n",
      " [42466 16724]\n",
      " [ 1119  4712]\n",
      " [38919 10641]\n",
      " [34832 17880]]\n",
      "y = \n",
      " [3.  3.5 2.5 2.5 5. ]\n"
     ]
    }
   ],
   "source": [
    "print(\"Training Set :\\n----------------\\n\")\n",
    "print(\"X = \\n\", X_train[:5])\n",
    "print(\"y = \\n\", y_train[:5])\n",
    "\n",
    "print(\"\\n\\nTest Set :\\n----------------\\n\")\n",
    "print(\"X = \\n\",X_test[:5])\n",
    "print(\"y = \\n\", y_test[:5])"
   ]
  },
  {
   "cell_type": "code",
   "execution_count": 49,
   "metadata": {},
   "outputs": [
    {
     "name": "stdout",
     "output_type": "stream",
     "text": [
      "Shape of Training set is (380787, 2)\n",
      "Shape of Testing set is (95197, 2)\n"
     ]
    }
   ],
   "source": [
    "print(f\"Shape of Training set is {X_train.shape}\")\n",
    "print(f\"Shape of Testing set is {X_test.shape}\")"
   ]
  },
  {
   "cell_type": "markdown",
   "metadata": {},
   "source": [
    "### Apply Decision Tree Regression "
   ]
  },
  {
   "cell_type": "code",
   "execution_count": 50,
   "metadata": {},
   "outputs": [
    {
     "data": {
      "application/vnd.jupyter.widget-view+json": {
       "model_id": "a591a59e878041edbfbc77ca20c6a2e3",
       "version_major": 2,
       "version_minor": 0
      },
      "text/plain": [
       "ToggleButtons(description='Number of features for the best split :', options=('log2', 'sqrt', 'auto'), style=T…"
      ]
     },
     "metadata": {},
     "output_type": "display_data"
    },
    {
     "data": {
      "application/vnd.jupyter.widget-view+json": {
       "model_id": "4dddfb4509644a4e905c7c10fc2fbdd4",
       "version_major": 2,
       "version_minor": 0
      },
      "text/plain": [
       "Dropdown(description='The maximum depth of the Tree. :', options=(10, 20, 30, 50), style=DescriptionStyle(desc…"
      ]
     },
     "metadata": {},
     "output_type": "display_data"
    },
    {
     "data": {
      "application/vnd.jupyter.widget-view+json": {
       "model_id": "f77dfeb8fe9c42babef48b619b86d894",
       "version_major": 2,
       "version_minor": 0
      },
      "text/plain": [
       "Dropdown(description='The maximum depth of the Tree. :', options=(100, 200, 300, 500), style=DescriptionStyle(…"
      ]
     },
     "metadata": {},
     "output_type": "display_data"
    }
   ],
   "source": [
    "# import decision tree library\n",
    "from sklearn.tree import DecisionTreeRegressor\n",
    "\n",
    "# configure params for the model.\n",
    "max_feat_wig = widgets.ToggleButtons(options=['log2', 'sqrt', 'auto'],\n",
    "                                    description='Number of features for the best split :',\n",
    "                                    disabled=False,\n",
    "                                    style=style)\n",
    "\n",
    "display(max_feat_wig)\n",
    "\n",
    "max_depth_wig = widgets.Dropdown(options=[10, 20, 30, 50],\n",
    "                            description='The maximum depth of the Tree. :',\n",
    "                            style=style)\n",
    "\n",
    "display(max_depth_wig)\n",
    "\n",
    "min_split_wig = widgets.Dropdown(options=[100, 200, 300, 500],\n",
    "                            description='The maximum depth of the Tree. :',\n",
    "                            style=style)\n",
    "\n",
    "display(min_split_wig)"
   ]
  },
  {
   "cell_type": "markdown",
   "metadata": {},
   "source": [
    "### Predict and Evaluate the Model "
   ]
  },
  {
   "cell_type": "code",
   "execution_count": 51,
   "metadata": {},
   "outputs": [
    {
     "name": "stdout",
     "output_type": "stream",
     "text": [
      "\n",
      "Predictions =  [3.80958537 3.82897157 4.04128035 ... 4.         3.82897157 3.74801902]\n"
     ]
    }
   ],
   "source": [
    "# Train the Regressor with training set\n",
    "regressor = DecisionTreeRegressor(max_features=max_feat_wig.value,\n",
    "                                  max_depth=max_depth_wig.value,\n",
    "                                  min_samples_split=min_split_wig.value)\n",
    "\n",
    "#fit the linear model\n",
    "regressor.fit(X_train, y_train)\n",
    "\n",
    "#7 predict the outcome of test sets\n",
    "y_Pred = regressor.predict(X_test)\n",
    "print(\"\\nPredictions = \", y_Pred)"
   ]
  },
  {
   "cell_type": "code",
   "execution_count": 52,
   "metadata": {},
   "outputs": [
    {
     "name": "stdout",
     "output_type": "stream",
     "text": [
      "\n",
      "----------------------------\n",
      "RMLSE Score =  0.926600501999191\n",
      "\n",
      "Actual vs Predicted Scores \n",
      "------------------------------\n",
      "\n"
     ]
    },
    {
     "data": {
      "text/html": [
       "<div>\n",
       "<style scoped>\n",
       "    .dataframe tbody tr th:only-of-type {\n",
       "        vertical-align: middle;\n",
       "    }\n",
       "\n",
       "    .dataframe tbody tr th {\n",
       "        vertical-align: top;\n",
       "    }\n",
       "\n",
       "    .dataframe thead th {\n",
       "        text-align: right;\n",
       "    }\n",
       "</style>\n",
       "<table border=\"1\" class=\"dataframe\">\n",
       "  <thead>\n",
       "    <tr style=\"text-align: right;\">\n",
       "      <th></th>\n",
       "      <th>Actual</th>\n",
       "      <th>Predicted</th>\n",
       "      <th>Abs. Error</th>\n",
       "    </tr>\n",
       "  </thead>\n",
       "  <tbody>\n",
       "    <tr>\n",
       "      <th>0</th>\n",
       "      <td>3.0</td>\n",
       "      <td>3.809585</td>\n",
       "      <td>0.809585</td>\n",
       "    </tr>\n",
       "    <tr>\n",
       "      <th>1</th>\n",
       "      <td>3.5</td>\n",
       "      <td>3.828972</td>\n",
       "      <td>0.328972</td>\n",
       "    </tr>\n",
       "    <tr>\n",
       "      <th>2</th>\n",
       "      <td>2.5</td>\n",
       "      <td>4.041280</td>\n",
       "      <td>1.541280</td>\n",
       "    </tr>\n",
       "    <tr>\n",
       "      <th>3</th>\n",
       "      <td>2.5</td>\n",
       "      <td>3.809585</td>\n",
       "      <td>1.309585</td>\n",
       "    </tr>\n",
       "    <tr>\n",
       "      <th>4</th>\n",
       "      <td>5.0</td>\n",
       "      <td>3.828972</td>\n",
       "      <td>1.171028</td>\n",
       "    </tr>\n",
       "    <tr>\n",
       "      <th>...</th>\n",
       "      <td>...</td>\n",
       "      <td>...</td>\n",
       "      <td>...</td>\n",
       "    </tr>\n",
       "    <tr>\n",
       "      <th>95192</th>\n",
       "      <td>3.0</td>\n",
       "      <td>3.756011</td>\n",
       "      <td>0.756011</td>\n",
       "    </tr>\n",
       "    <tr>\n",
       "      <th>95193</th>\n",
       "      <td>3.5</td>\n",
       "      <td>3.756011</td>\n",
       "      <td>0.256011</td>\n",
       "    </tr>\n",
       "    <tr>\n",
       "      <th>95194</th>\n",
       "      <td>4.0</td>\n",
       "      <td>4.000000</td>\n",
       "      <td>0.000000</td>\n",
       "    </tr>\n",
       "    <tr>\n",
       "      <th>95195</th>\n",
       "      <td>5.0</td>\n",
       "      <td>3.828972</td>\n",
       "      <td>1.171028</td>\n",
       "    </tr>\n",
       "    <tr>\n",
       "      <th>95196</th>\n",
       "      <td>4.5</td>\n",
       "      <td>3.748019</td>\n",
       "      <td>0.751981</td>\n",
       "    </tr>\n",
       "  </tbody>\n",
       "</table>\n",
       "<p>95197 rows × 3 columns</p>\n",
       "</div>"
      ],
      "text/plain": [
       "       Actual  Predicted  Abs. Error\n",
       "0         3.0   3.809585    0.809585\n",
       "1         3.5   3.828972    0.328972\n",
       "2         2.5   4.041280    1.541280\n",
       "3         2.5   3.809585    1.309585\n",
       "4         5.0   3.828972    1.171028\n",
       "...       ...        ...         ...\n",
       "95192     3.0   3.756011    0.756011\n",
       "95193     3.5   3.756011    0.256011\n",
       "95194     4.0   4.000000    0.000000\n",
       "95195     5.0   3.828972    1.171028\n",
       "95196     4.5   3.748019    0.751981\n",
       "\n",
       "[95197 rows x 3 columns]"
      ]
     },
     "execution_count": 52,
     "metadata": {},
     "output_type": "execute_result"
    }
   ],
   "source": [
    "# Calculating score from Root Mean Log Squared Error\n",
    "def rmlse(y_test, y_pred):\n",
    "    error = np.square(np.log10(y_pred +1) - np.log10(y_test +1)).mean() ** 0.5\n",
    "    score = 1 - error\n",
    "    return score\n",
    "\n",
    "# Printing the score\n",
    "print(\"\\n----------------------------\\nRMLSE Score = \", rmlse(y_test, y_Pred))\n",
    "\n",
    "#9 Comparing Actual and Predicted Salaries for he test set\n",
    "print(\"\\nActual vs Predicted Scores \\n------------------------------\\n\")\n",
    "error_df = pd.DataFrame({\"Actual\" : y_test,\n",
    "                         \"Predicted\" : y_Pred,\n",
    "                         \"Abs. Error\" : np.abs(y_test - y_Pred)})\n",
    "\n",
    "error_df"
   ]
  },
  {
   "cell_type": "code",
   "execution_count": 53,
   "metadata": {},
   "outputs": [
    {
     "name": "stdout",
     "output_type": "stream",
     "text": [
      "\n",
      " ----------------------------------------\n",
      "RMLSE :  0.07339949800080899\n",
      "Score : 0.926600501999191\n"
     ]
    }
   ],
   "source": [
    "#9 Calculating score from Root Mean Log Squared Error\n",
    "from sklearn.metrics import r2_score\n",
    "def rmlse(y_test, y_pred):\n",
    "    error = np.square(np.log10(y_pred +1) - np.log10(y_test +1)).mean() ** 0.5\n",
    "    score = 1-error\n",
    "    return error, score\n",
    "\n",
    "error, score = rmlse(y_test, y_Pred)\n",
    "\n",
    "print(\"\\n\",'-'*40)\n",
    "print(\"RMLSE : \", error)\n",
    "print(\"Score :\", score)"
   ]
  },
  {
   "cell_type": "markdown",
   "metadata": {},
   "source": [
    "### Actual vs. Predicted "
   ]
  },
  {
   "cell_type": "code",
   "execution_count": 31,
   "metadata": {},
   "outputs": [
    {
     "name": "stderr",
     "output_type": "stream",
     "text": [
      "No handles with labels found to put in legend.\n"
     ]
    },
    {
     "data": {
      "image/png": "[encoded data removed]",
      "text/plain": [
       "<Figure size 432x288 with 1 Axes>"
      ]
     },
     "metadata": {
      "needs_background": "light"
     },
     "output_type": "display_data"
    }
   ],
   "source": [
    "#Plotting Actual observation vs Predictions\n",
    "plt.scatter(y_test, y_Pred, s = 10)\n",
    "plt.xlabel('Actual')\n",
    "plt.ylabel('Predicted')\n",
    "plt.legend();\n",
    "plt.grid();\n",
    "plt.show();"
   ]
  },
  {
   "cell_type": "code",
   "execution_count": null,
   "metadata": {},
   "outputs": [],
   "source": []
  },
  {
   "cell_type": "code",
   "execution_count": null,
   "metadata": {},
   "outputs": [],
   "source": []
  }
 ],
 "metadata": {
  "kernelspec": {
   "display_name": "Python 3",
   "language": "python",
   "name": "python3"
  },
  "language_info": {
   "codemirror_mode": {
    "name": "ipython",
    "version": 3
   },
   "file_extension": ".py",
   "mimetype": "text/x-python",
   "name": "python",
   "nbconvert_exporter": "python",
   "pygments_lexer": "ipython3",
   "version": "3.7.6"
  }
 },
 "nbformat": 4,
 "nbformat_minor": 4
}
