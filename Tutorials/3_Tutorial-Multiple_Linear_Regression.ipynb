{
 "cells": [
  {
   "cell_type": "markdown",
   "metadata": {},
   "source": [
    "# Tutorial 2:"
   ]
  },
  {
   "cell_type": "markdown",
   "metadata": {},
   "source": [
    "## Multiple Linear Regression\n",
    "In this section, we will learn some of the key concepts in Multiple Linear Regression, and also understand some of the assumptions in linear regression.\n",
    "\n",
    "Multivariate Linear Regression is used for predicting a continuous value target/dependent variable. While using the multiple variables we must understand the relationship among the variables and their correlation with the target variable.\n",
    "![Multiple Linear Regression](images/MLR_formula.png \"Multiple Linear Regression\")\n",
    "\n",
    "As discussed in Linear Regression, Correlation doesn’t mean Causation understanding the following concepts will help us dive deeper in understanding the prerequisites for modeling data using Multivariate Regression.\n",
    "#### Assumptions in Linear Regression\n",
    "Linear regression works based on some assumption which must be understood before we start using them.\n",
    "\n",
    "- The relationship between the independent and dependent variables must be linear.\n",
    "- All the variables are normally distributed.\n",
    "- No multicollinearity between the Independent variables.\n",
    "- The residuals must not be autocorrelated and heteroscedastic. \n",
    "  \n",
    "***The above assumptions must be checked once we decide to use the linear regression model***\n",
    "#### Multicollinearity\n",
    "Multicollinearity is the most important concept in multivariate Linear Regression. It occurs due to the high correlation among independent variables.\n",
    "\n",
    "***There are various techniques to avoid multicollinearity. Some of them are as follows.***\n",
    "\n",
    "- Drop one of the independent variables among the correlated variables.\n",
    "- Variation Inflation Factor (VIF) can be used to check the multicollinearity.\n",
    "- Removing the mean of variables to center the data, also helps.\n",
    "  \n",
    "#### Homoscedasticity / Heteroscedasticity\n",
    "Understanding the errors of the model is important to build a robust machine learning model. In Linear Regression the Error(Residuals) are homoscedastic meaning residuals are of similar magnitude. Also, we say normally distributed error.\n",
    "The below figure depicts heteroscedasticity. We can see the variation in the Residuals(errors) across the fitted line.\n",
    "![Homoscedasticity](images/Homoscedasticity.jfif \"Homoscedasticity\")\n"
   ]
  },
  {
   "cell_type": "markdown",
   "metadata": {},
   "source": [
    "### We will perform the following steps to build a Multiple Linear Regression model using the popular Beer dataset.\n",
    "\n",
    " \n",
    " \n",
    "  - **Data Preprocessing**\n",
    "\n",
    "    - Importing the libraries.\n",
    "    - Importing dataset.\n",
    "    - Dealing with the categorical variable.\n",
    "    - Classifying dependent and independent variables.\n",
    "    - Splitting the data into a training set and test set.\n",
    "    - Feature scaling.\n",
    " \n",
    "\n",
    "  -  **Linear Regression**\n",
    "\n",
    "    - Create a Linear Regressor.\n",
    "    - Feed the training data to the regressor model.\n",
    "    - Predicting the scores for the test set.\n",
    "    - Using the RMSE to measure the performance."
   ]
  },
  {
   "cell_type": "code",
   "execution_count": 2,
   "metadata": {},
   "outputs": [],
   "source": [
    "#1 Importing necessary libraries\n",
    "import numpy as np\n",
    "import pandas as pd"
   ]
  },
  {
   "cell_type": "code",
   "execution_count": 4,
   "metadata": {},
   "outputs": [
    {
     "data": {
      "text/html": [
       "<div>\n",
       "<style scoped>\n",
       "    .dataframe tbody tr th:only-of-type {\n",
       "        vertical-align: middle;\n",
       "    }\n",
       "\n",
       "    .dataframe tbody tr th {\n",
       "        vertical-align: top;\n",
       "    }\n",
       "\n",
       "    .dataframe thead th {\n",
       "        text-align: right;\n",
       "    }\n",
       "</style>\n",
       "<table border=\"1\" class=\"dataframe\">\n",
       "  <thead>\n",
       "    <tr style=\"text-align: right;\">\n",
       "      <th></th>\n",
       "      <th>beer_beerid</th>\n",
       "      <th>review_profilename</th>\n",
       "      <th>review_overall</th>\n",
       "    </tr>\n",
       "  </thead>\n",
       "  <tbody>\n",
       "    <tr>\n",
       "      <th>0</th>\n",
       "      <td>48215</td>\n",
       "      <td>stcules</td>\n",
       "      <td>3.0</td>\n",
       "    </tr>\n",
       "    <tr>\n",
       "      <th>1</th>\n",
       "      <td>52159</td>\n",
       "      <td>oline73</td>\n",
       "      <td>3.0</td>\n",
       "    </tr>\n",
       "    <tr>\n",
       "      <th>2</th>\n",
       "      <td>52159</td>\n",
       "      <td>alpinebryant</td>\n",
       "      <td>3.0</td>\n",
       "    </tr>\n",
       "    <tr>\n",
       "      <th>3</th>\n",
       "      <td>52159</td>\n",
       "      <td>rawthar</td>\n",
       "      <td>4.0</td>\n",
       "    </tr>\n",
       "    <tr>\n",
       "      <th>4</th>\n",
       "      <td>52159</td>\n",
       "      <td>RangerClegg</td>\n",
       "      <td>3.5</td>\n",
       "    </tr>\n",
       "  </tbody>\n",
       "</table>\n",
       "</div>"
      ],
      "text/plain": [
       "   beer_beerid review_profilename  review_overall\n",
       "0        48215            stcules             3.0\n",
       "1        52159            oline73             3.0\n",
       "2        52159       alpinebryant             3.0\n",
       "3        52159            rawthar             4.0\n",
       "4        52159        RangerClegg             3.5"
      ]
     },
     "execution_count": 4,
     "metadata": {},
     "output_type": "execute_result"
    }
   ],
   "source": [
    "#2 Importing the data set\n",
    "dataset = pd.read_csv('Datasets/beer_data.csv')\n",
    "\n",
    "#Printing first 10 rows of the dataset\n",
    "dataset.head()"
   ]
  },
  {
   "cell_type": "code",
   "execution_count": 18,
   "metadata": {},
   "outputs": [
    {
     "data": {
      "text/html": [
       "<div>\n",
       "<style scoped>\n",
       "    .dataframe tbody tr th:only-of-type {\n",
       "        vertical-align: middle;\n",
       "    }\n",
       "\n",
       "    .dataframe tbody tr th {\n",
       "        vertical-align: top;\n",
       "    }\n",
       "\n",
       "    .dataframe thead th {\n",
       "        text-align: right;\n",
       "    }\n",
       "</style>\n",
       "<table border=\"1\" class=\"dataframe\">\n",
       "  <thead>\n",
       "    <tr style=\"text-align: right;\">\n",
       "      <th></th>\n",
       "      <th>beer_beerid</th>\n",
       "      <th>review_profilename</th>\n",
       "      <th>review_overall</th>\n",
       "    </tr>\n",
       "  </thead>\n",
       "  <tbody>\n",
       "    <tr>\n",
       "      <th>0</th>\n",
       "      <td>48215</td>\n",
       "      <td>2026</td>\n",
       "      <td>3.0</td>\n",
       "    </tr>\n",
       "    <tr>\n",
       "      <th>1</th>\n",
       "      <td>52159</td>\n",
       "      <td>21705</td>\n",
       "      <td>3.0</td>\n",
       "    </tr>\n",
       "    <tr>\n",
       "      <th>2</th>\n",
       "      <td>52159</td>\n",
       "      <td>13305</td>\n",
       "      <td>3.0</td>\n",
       "    </tr>\n",
       "    <tr>\n",
       "      <th>3</th>\n",
       "      <td>52159</td>\n",
       "      <td>218</td>\n",
       "      <td>4.0</td>\n",
       "    </tr>\n",
       "    <tr>\n",
       "      <th>4</th>\n",
       "      <td>52159</td>\n",
       "      <td>10079</td>\n",
       "      <td>3.5</td>\n",
       "    </tr>\n",
       "  </tbody>\n",
       "</table>\n",
       "</div>"
      ],
      "text/plain": [
       "   beer_beerid  review_profilename  review_overall\n",
       "0        48215                2026             3.0\n",
       "1        52159               21705             3.0\n",
       "2        52159               13305             3.0\n",
       "3        52159                 218             4.0\n",
       "4        52159               10079             3.5"
      ]
     },
     "execution_count": 18,
     "metadata": {},
     "output_type": "execute_result"
    }
   ],
   "source": [
    "# Dealing with Categorical variables\n",
    "from sklearn.preprocessing import LabelEncoder\n",
    "le = LabelEncoder()\n",
    "#Making sure the type of the review_profilename column is str\n",
    "dataset[\"review_profilename\"] = dataset[\"review_profilename\"].astype(str)\n",
    "dataset[\"review_profilename\"] = le.fit_transform(dataset[\"review_profilename\"])\n",
    "dataset.head()"
   ]
  },
  {
   "cell_type": "code",
   "execution_count": 21,
   "metadata": {},
   "outputs": [
    {
     "data": {
      "text/html": [
       "<div>\n",
       "<style scoped>\n",
       "    .dataframe tbody tr th:only-of-type {\n",
       "        vertical-align: middle;\n",
       "    }\n",
       "\n",
       "    .dataframe tbody tr th {\n",
       "        vertical-align: top;\n",
       "    }\n",
       "\n",
       "    .dataframe thead th {\n",
       "        text-align: right;\n",
       "    }\n",
       "</style>\n",
       "<table border=\"1\" class=\"dataframe\">\n",
       "  <thead>\n",
       "    <tr style=\"text-align: right;\">\n",
       "      <th></th>\n",
       "      <th>beer_beerid</th>\n",
       "      <th>review_profilename</th>\n",
       "      <th>review_overall</th>\n",
       "    </tr>\n",
       "  </thead>\n",
       "  <tbody>\n",
       "    <tr>\n",
       "      <th>count</th>\n",
       "      <td>475984.000000</td>\n",
       "      <td>475984.000000</td>\n",
       "      <td>475984.000000</td>\n",
       "    </tr>\n",
       "    <tr>\n",
       "      <th>mean</th>\n",
       "      <td>21660.550611</td>\n",
       "      <td>11140.567574</td>\n",
       "      <td>3.814827</td>\n",
       "    </tr>\n",
       "    <tr>\n",
       "      <th>std</th>\n",
       "      <td>21793.437326</td>\n",
       "      <td>6384.102903</td>\n",
       "      <td>0.720411</td>\n",
       "    </tr>\n",
       "    <tr>\n",
       "      <th>min</th>\n",
       "      <td>3.000000</td>\n",
       "      <td>0.000000</td>\n",
       "      <td>0.000000</td>\n",
       "    </tr>\n",
       "    <tr>\n",
       "      <th>25%</th>\n",
       "      <td>1716.000000</td>\n",
       "      <td>5686.000000</td>\n",
       "      <td>3.500000</td>\n",
       "    </tr>\n",
       "    <tr>\n",
       "      <th>50%</th>\n",
       "      <td>13892.000000</td>\n",
       "      <td>11196.000000</td>\n",
       "      <td>4.000000</td>\n",
       "    </tr>\n",
       "    <tr>\n",
       "      <th>75%</th>\n",
       "      <td>39397.000000</td>\n",
       "      <td>16481.000000</td>\n",
       "      <td>4.500000</td>\n",
       "    </tr>\n",
       "    <tr>\n",
       "      <th>max</th>\n",
       "      <td>77317.000000</td>\n",
       "      <td>22497.000000</td>\n",
       "      <td>5.000000</td>\n",
       "    </tr>\n",
       "  </tbody>\n",
       "</table>\n",
       "</div>"
      ],
      "text/plain": [
       "         beer_beerid  review_profilename  review_overall\n",
       "count  475984.000000       475984.000000   475984.000000\n",
       "mean    21660.550611        11140.567574        3.814827\n",
       "std     21793.437326         6384.102903        0.720411\n",
       "min         3.000000            0.000000        0.000000\n",
       "25%      1716.000000         5686.000000        3.500000\n",
       "50%     13892.000000        11196.000000        4.000000\n",
       "75%     39397.000000        16481.000000        4.500000\n",
       "max     77317.000000        22497.000000        5.000000"
      ]
     },
     "execution_count": 21,
     "metadata": {},
     "output_type": "execute_result"
    }
   ],
   "source": [
    "#Printing the summary of the dataset\n",
    "dataset.describe()"
   ]
  },
  {
   "cell_type": "code",
   "execution_count": 22,
   "metadata": {},
   "outputs": [
    {
     "data": {
      "text/plain": [
       "[Text(0.5, 0, 'beer_beerid'),\n",
       " Text(1.5, 0, 'review_profilename'),\n",
       " Text(2.5, 0, 'review_overall')]"
      ]
     },
     "execution_count": 22,
     "metadata": {},
     "output_type": "execute_result"
    },
    {
     "data": {
      "image/png": "[encoded data removed]",
      "text/plain": [
       "<Figure size 720x720 with 2 Axes>"
      ]
     },
     "metadata": {
      "needs_background": "light"
     },
     "output_type": "display_data"
    }
   ],
   "source": [
    "#A simple correlation plot usong seaborn. The below plot shows how the different variables correlate with each other\n",
    "import seaborn as sns\n",
    "import matplotlib.pyplot as plt\n",
    "corr = dataset.corr()\n",
    "fig, ax = plt.subplots(figsize=(10,10))\n",
    "ax = sns.heatmap(\n",
    "    corr, \n",
    "    vmin=-1, vmax=1, center=0,\n",
    "    square=True,\n",
    "    annot=True,\n",
    "    linewidths=.5,\n",
    "    cmap=\"YlGnBu\" )\n",
    "#Rotating labels on x axis\n",
    "ax.set_xticklabels(\n",
    "    ax.get_xticklabels(),\n",
    "    rotation=35,\n",
    "    horizontalalignment='right'\n",
    ")"
   ]
  },
  {
   "cell_type": "code",
   "execution_count": 23,
   "metadata": {},
   "outputs": [],
   "source": [
    "#4 Classifying dependent and independent variables\n",
    "\n",
    "#All columns except the last column are independent features- (Selecting every column except Score)\n",
    "X = dataset.iloc[:,:-1].values\n",
    "\n",
    "#Only the last column is the dependent feature or the target variable(Score)\n",
    "y = dataset.iloc[:,-1].values"
   ]
  },
  {
   "cell_type": "code",
   "execution_count": 24,
   "metadata": {},
   "outputs": [],
   "source": [
    "#5 Creating training and test sets\n",
    "from sklearn.model_selection import train_test_split\n",
    "X_train, X_test, y_train, y_test = train_test_split(X,y,test_size = 0.2,random_state = 0)\n",
    "\n",
    "#################Data Preprocessing Ends #################################"
   ]
  },
  {
   "cell_type": "code",
   "execution_count": 26,
   "metadata": {},
   "outputs": [
    {
     "name": "stdout",
     "output_type": "stream",
     "text": [
      "\n",
      "\n",
      "Training Set :\n",
      "----------------\n",
      "\n",
      "X = \n",
      " [[ 2512 12620]\n",
      " [60420 15452]\n",
      " [ 1443   501]\n",
      " ...\n",
      " [  295  5492]\n",
      " [ 1192 10164]\n",
      " [73828 15376]]\n",
      "y = \n",
      " [4.5 3.5 4.5 ... 3.5 4.  4. ]\n",
      "\n",
      "\n",
      "Test Set :\n",
      "----------------\n",
      "\n",
      "X = \n",
      " [[ 9873 10410]\n",
      " [42466 19693]\n",
      " [ 1119  7364]\n",
      " ...\n",
      " [   30 10014]\n",
      " [35732 20141]\n",
      " [ 1213  3412]]\n",
      "y = \n",
      " [3.  3.5 2.5 ... 4.  5.  4.5]\n"
     ]
    }
   ],
   "source": [
    "print(\"\\n\\nTraining Set :\\n----------------\\n\")\n",
    "print(\"X = \\n\", X_train)\n",
    "print(\"y = \\n\", y_train)\n",
    "print(\"\\n\\nTest Set :\\n----------------\\n\")\n",
    "print(\"X = \\n\",X_test)\n",
    "print(\"y = \\n\", y_test)"
   ]
  },
  {
   "cell_type": "code",
   "execution_count": 27,
   "metadata": {},
   "outputs": [],
   "source": [
    "\"\"\" Multiple Linear regression \"\"\"\n",
    "\n",
    "#6 Creating the Regressor and training it with the training set\n",
    "\n",
    "from sklearn.linear_model import LinearRegression\n",
    "regressor = LinearRegression(normalize = True)"
   ]
  },
  {
   "cell_type": "code",
   "execution_count": 28,
   "metadata": {},
   "outputs": [
    {
     "data": {
      "text/plain": [
       "LinearRegression(copy_X=True, fit_intercept=True, n_jobs=None, normalize=True)"
      ]
     },
     "execution_count": 28,
     "metadata": {},
     "output_type": "execute_result"
    }
   ],
   "source": [
    "#7 Feeding the data and training the model\n",
    "regressor.fit(X_train,y_train)"
   ]
  },
  {
   "cell_type": "code",
   "execution_count": 29,
   "metadata": {},
   "outputs": [],
   "source": [
    "#8 Predicting the Score for test set observations\n",
    "y_pred = regressor.predict(X_test)"
   ]
  },
  {
   "cell_type": "code",
   "execution_count": 30,
   "metadata": {},
   "outputs": [
    {
     "name": "stdout",
     "output_type": "stream",
     "text": [
      "\n",
      "----------------------------\n",
      "Predictions = \n",
      " [3.8126945  3.82366812 3.80932592 ... 3.81121519 3.82320395 3.80632537]\n"
     ]
    }
   ],
   "source": [
    "#printing the predictions\n",
    "print(\"\\n----------------------------\\nPredictions = \\n\",y_pred)"
   ]
  },
  {
   "cell_type": "code",
   "execution_count": 34,
   "metadata": {},
   "outputs": [
    {
     "name": "stdout",
     "output_type": "stream",
     "text": [
      "Prediction Accuracy =  0.9999870326043429\n",
      "\n",
      "Actual vs Predicted Salaries \n",
      "------------------------------\n",
      "\n"
     ]
    },
    {
     "data": {
      "text/html": [
       "<div>\n",
       "<style scoped>\n",
       "    .dataframe tbody tr th:only-of-type {\n",
       "        vertical-align: middle;\n",
       "    }\n",
       "\n",
       "    .dataframe tbody tr th {\n",
       "        vertical-align: top;\n",
       "    }\n",
       "\n",
       "    .dataframe thead th {\n",
       "        text-align: right;\n",
       "    }\n",
       "</style>\n",
       "<table border=\"1\" class=\"dataframe\">\n",
       "  <thead>\n",
       "    <tr style=\"text-align: right;\">\n",
       "      <th></th>\n",
       "      <th>Actual</th>\n",
       "      <th>Predicted</th>\n",
       "      <th>Abs. Error</th>\n",
       "    </tr>\n",
       "  </thead>\n",
       "  <tbody>\n",
       "    <tr>\n",
       "      <th>0</th>\n",
       "      <td>3.0</td>\n",
       "      <td>3.812695</td>\n",
       "      <td>0.812695</td>\n",
       "    </tr>\n",
       "    <tr>\n",
       "      <th>1</th>\n",
       "      <td>3.5</td>\n",
       "      <td>3.823668</td>\n",
       "      <td>0.323668</td>\n",
       "    </tr>\n",
       "    <tr>\n",
       "      <th>2</th>\n",
       "      <td>2.5</td>\n",
       "      <td>3.809326</td>\n",
       "      <td>1.309326</td>\n",
       "    </tr>\n",
       "    <tr>\n",
       "      <th>3</th>\n",
       "      <td>2.5</td>\n",
       "      <td>3.822978</td>\n",
       "      <td>1.322978</td>\n",
       "    </tr>\n",
       "    <tr>\n",
       "      <th>4</th>\n",
       "      <td>5.0</td>\n",
       "      <td>3.823842</td>\n",
       "      <td>1.176158</td>\n",
       "    </tr>\n",
       "    <tr>\n",
       "      <th>...</th>\n",
       "      <td>...</td>\n",
       "      <td>...</td>\n",
       "      <td>...</td>\n",
       "    </tr>\n",
       "    <tr>\n",
       "      <th>95192</th>\n",
       "      <td>3.0</td>\n",
       "      <td>3.815191</td>\n",
       "      <td>0.815191</td>\n",
       "    </tr>\n",
       "    <tr>\n",
       "      <th>95193</th>\n",
       "      <td>3.5</td>\n",
       "      <td>3.812933</td>\n",
       "      <td>0.312933</td>\n",
       "    </tr>\n",
       "    <tr>\n",
       "      <th>95194</th>\n",
       "      <td>4.0</td>\n",
       "      <td>3.811215</td>\n",
       "      <td>0.188785</td>\n",
       "    </tr>\n",
       "    <tr>\n",
       "      <th>95195</th>\n",
       "      <td>5.0</td>\n",
       "      <td>3.823204</td>\n",
       "      <td>1.176796</td>\n",
       "    </tr>\n",
       "    <tr>\n",
       "      <th>95196</th>\n",
       "      <td>4.5</td>\n",
       "      <td>3.806325</td>\n",
       "      <td>0.693675</td>\n",
       "    </tr>\n",
       "  </tbody>\n",
       "</table>\n",
       "<p>95197 rows × 3 columns</p>\n",
       "</div>"
      ],
      "text/plain": [
       "       Actual  Predicted  Abs. Error\n",
       "0         3.0   3.812695    0.812695\n",
       "1         3.5   3.823668    0.323668\n",
       "2         2.5   3.809326    1.309326\n",
       "3         2.5   3.822978    1.322978\n",
       "4         5.0   3.823842    1.176158\n",
       "...       ...        ...         ...\n",
       "95192     3.0   3.815191    0.815191\n",
       "95193     3.5   3.812933    0.312933\n",
       "95194     4.0   3.811215    0.188785\n",
       "95195     5.0   3.823204    1.176796\n",
       "95196     4.5   3.806325    0.693675\n",
       "\n",
       "[95197 rows x 3 columns]"
      ]
     },
     "execution_count": 34,
     "metadata": {},
     "output_type": "execute_result"
    }
   ],
   "source": [
    "#8 Claculating the Accuracy of the predictions\n",
    "from sklearn import metrics\n",
    "print(\"Prediction Accuracy = \", 1-metrics.r2_score(y_test, y_pred))\n",
    "\n",
    "#9 Comparing Actual and Predicted Salaries for he test set\n",
    "print(\"\\nActual vs Predicted Salaries \\n------------------------------\\n\")\n",
    "error_df = pd.DataFrame({\"Actual\" : y_test,\n",
    "                         \"Predicted\" : y_pred,\n",
    "                         \"Abs. Error\" : np.abs(y_test - y_pred)})\n",
    "\n",
    "error_df"
   ]
  },
  {
   "cell_type": "code",
   "execution_count": 31,
   "metadata": {},
   "outputs": [
    {
     "name": "stdout",
     "output_type": "stream",
     "text": [
      "\n",
      " ----------------------------------------\n",
      "RMLSE :  0.07408909414135943\n",
      "Score :  0.9259109058586406\n"
     ]
    }
   ],
   "source": [
    "#9 Calculating score from Root Mean Log Squared Error\n",
    "\n",
    "def rmlse(y_test, y_pred):\n",
    "    error = np.square(np.log10(y_pred +1) - np.log10(y_test +1)).mean() ** 0.5\n",
    "    score = 1 - error\n",
    "    return error, score\n",
    "\n",
    "error, score = rmlse(y_test, y_pred)\n",
    "\n",
    "print(\"\\n\",'-'*40)\n",
    "print(\"RMLSE : \", error)\n",
    "print(\"Score : \", score)"
   ]
  },
  {
   "cell_type": "code",
   "execution_count": null,
   "metadata": {},
   "outputs": [],
   "source": []
  }
 ],
 "metadata": {
  "kernelspec": {
   "display_name": "Python 3",
   "language": "python",
   "name": "python3"
  },
  "language_info": {
   "codemirror_mode": {
    "name": "ipython",
    "version": 3
   },
   "file_extension": ".py",
   "mimetype": "text/x-python",
   "name": "python",
   "nbconvert_exporter": "python",
   "pygments_lexer": "ipython3",
   "version": "3.7.6"
  }
 },
 "nbformat": 4,
 "nbformat_minor": 4
}
